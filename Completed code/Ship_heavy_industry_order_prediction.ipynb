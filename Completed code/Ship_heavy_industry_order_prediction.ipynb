{
  "nbformat": 4,
  "nbformat_minor": 0,
  "metadata": {
    "colab": {
      "private_outputs": true,
      "provenance": []
    },
    "kernelspec": {
      "name": "python3",
      "display_name": "Python 3"
    },
    "language_info": {
      "name": "python"
    }
  },
  "cells": [
    {
      "cell_type": "markdown",
      "source": [
        "# **파일 불러오기**"
      ],
      "metadata": {
        "id": "ETdQgpiU-SJz"
      }
    },
    {
      "cell_type": "code",
      "execution_count": null,
      "metadata": {
        "id": "1JQzwTFG10DX"
      },
      "outputs": [],
      "source": [
        "from google.colab import drive\n",
        "drive.mount('/content/drive')"
      ]
    },
    {
      "cell_type": "markdown",
      "source": [
        "# **데이터 전처리 및 시각화 라이브러리 불러오기**"
      ],
      "metadata": {
        "id": "PnNJszsk-Xaj"
      }
    },
    {
      "cell_type": "code",
      "source": [
        "import pandas as pd\n",
        "import numpy as np\n",
        "import matplotlib.pyplot as plt\n",
        "import plotly.express as px\n",
        "import seaborn as sns"
      ],
      "metadata": {
        "id": "RC2aFUaz2AkM"
      },
      "execution_count": null,
      "outputs": []
    },
    {
      "cell_type": "markdown",
      "source": [
        "# **데이터 가져오기 & 정보 확인**"
      ],
      "metadata": {
        "id": "KQdp4NzJ7fwR"
      }
    },
    {
      "cell_type": "code",
      "source": [
        "train_df = pd.read_csv(\"/content/drive/MyDrive/ML,DL datasets/Ship &  Fine Dust Dataset/Ship.csv\",encoding = 'cp949')\n",
        "test_df = pd.read_csv(\"/content/drive/MyDrive/ML,DL datasets/Ship &  Fine Dust Dataset/Ship.csv\",encoding = 'cp949')"
      ],
      "metadata": {
        "id": "iM90DJ6b2Ma3"
      },
      "execution_count": null,
      "outputs": []
    },
    {
      "cell_type": "code",
      "source": [
        "train_df.info()"
      ],
      "metadata": {
        "id": "Iw5qPFa2218O"
      },
      "execution_count": null,
      "outputs": []
    },
    {
      "cell_type": "code",
      "source": [
        "train_df.head(11)"
      ],
      "metadata": {
        "id": "DYtc2sEV24hm"
      },
      "execution_count": null,
      "outputs": []
    },
    {
      "cell_type": "code",
      "source": [
        "test_df.info()"
      ],
      "metadata": {
        "id": "Qi8X25J427RM"
      },
      "execution_count": null,
      "outputs": []
    },
    {
      "cell_type": "code",
      "source": [
        "test_df.head(11)"
      ],
      "metadata": {
        "id": "24-0vVHt2-Ea"
      },
      "execution_count": null,
      "outputs": []
    },
    {
      "cell_type": "markdown",
      "source": [
        "# **데이터 시각화**"
      ],
      "metadata": {
        "id": "N1iO8PQW71A6"
      }
    },
    {
      "cell_type": "code",
      "source": [
        "train_df.hist(bins=50,figsize=(15,10))"
      ],
      "metadata": {
        "id": "VeEq9Qok3DjC"
      },
      "execution_count": null,
      "outputs": []
    },
    {
      "cell_type": "code",
      "source": [
        "plt.figure(figsize=(10,10))\n",
        "colors = ['silver', 'gold']\n",
        "train_df['order_yn'].value_counts().plot.pie(explode=(0,0.1),autopct='%.1f%%',shadow=True,colors = colors)"
      ],
      "metadata": {
        "id": "bXBFKqVjv9xJ"
      },
      "execution_count": null,
      "outputs": []
    },
    {
      "cell_type": "code",
      "source": [
        "plt.figure(figsize=(10,10))\n",
        "colors = ['brown', 'pink']\n",
        "train_df['order_experience'].value_counts().plot.pie(explode=(0,0.1),autopct='%.1f%%',shadow=True,colors = colors)"
      ],
      "metadata": {
        "id": "RcIU8nDCwXJP"
      },
      "execution_count": null,
      "outputs": []
    },
    {
      "cell_type": "code",
      "source": [
        "plt.figure(figsize=(10,10))\n",
        "colors = ['red','green']\n",
        "train_df['domestic_competitor_bidding_yn'].value_counts().plot.pie(explode=(0,0.1),autopct='%.1f%%',shadow=True,colors = colors)"
      ],
      "metadata": {
        "id": "oJknv7Jbx2AQ"
      },
      "execution_count": null,
      "outputs": []
    },
    {
      "cell_type": "code",
      "source": [
        "plt.figure(figsize=(10,10))\n",
        "colors = ['cyan','magenta']\n",
        "train_df['chinese_bid_yn'].value_counts().plot.pie(explode=(0,0.1),autopct='%.1f%%',shadow=True,colors = colors)"
      ],
      "metadata": {
        "id": "i9t4q6r7yDIe"
      },
      "execution_count": null,
      "outputs": []
    },
    {
      "cell_type": "code",
      "source": [
        "plt.figure(figsize = (23,8))\n",
        "ax =train_df['ship_kinds'].value_counts().plot(kind='bar',color='orange',rot=0)\n",
        "\n",
        "for p in ax.patches:\n",
        "    ax.annotate(int(p.get_height()), (p.get_x() + 0.25, p.get_height() - 1),ha = 'center',va = 'bottom',color = 'black')"
      ],
      "metadata": {
        "id": "VPysgqrowqOP"
      },
      "execution_count": null,
      "outputs": []
    },
    {
      "cell_type": "code",
      "source": [
        "plt.figure(figsize = (23,8))\n",
        "ax =train_df['shipowner'].value_counts().plot(kind='bar',color='blue',rot=0)\n",
        "\n",
        "for p in ax.patches:\n",
        "    ax.annotate(int(p.get_height()), (p.get_x() + 0.25, p.get_height() - 1),ha = 'center',va = 'bottom',color = 'black')"
      ],
      "metadata": {
        "id": "fz0SG4zQxQF5"
      },
      "execution_count": null,
      "outputs": []
    },
    {
      "cell_type": "code",
      "source": [
        "plt.hist(train_df['ship_fee'])"
      ],
      "metadata": {
        "id": "rfo__cW_3N4K"
      },
      "execution_count": null,
      "outputs": []
    },
    {
      "cell_type": "code",
      "source": [
        "plt.hist(test_df['ship_fee'])"
      ],
      "metadata": {
        "id": "3j5XL-653P7D"
      },
      "execution_count": null,
      "outputs": []
    },
    {
      "cell_type": "code",
      "source": [
        "px.scatter(train_df,x='ship_kinds',y='Exchange_rate',color='order_yn',template='plotly_dark')"
      ],
      "metadata": {
        "id": "3M7kUp3DyrWV"
      },
      "execution_count": null,
      "outputs": []
    },
    {
      "cell_type": "code",
      "source": [
        "px.scatter(train_df,x='shipowner',y='Exchange_rate',color='order_yn',template='plotly_dark')"
      ],
      "metadata": {
        "id": "vt5eYkZE00N8"
      },
      "execution_count": null,
      "outputs": []
    },
    {
      "cell_type": "code",
      "source": [
        "px.bar(train_df,x='ship_kinds',y='Exchange_rate',color='order_yn',template='plotly_dark')"
      ],
      "metadata": {
        "id": "vkFsZLeU3WLg"
      },
      "execution_count": null,
      "outputs": []
    },
    {
      "cell_type": "code",
      "source": [
        "px.bar(train_df,x='shipowner',y='Exchange_rate',color='order_yn',template='plotly_dark')"
      ],
      "metadata": {
        "id": "yK8JgPB_3lK5"
      },
      "execution_count": null,
      "outputs": []
    },
    {
      "cell_type": "markdown",
      "source": [
        "# **데이터 전처리**"
      ],
      "metadata": {
        "id": "kT8zO_2my0Vb"
      }
    },
    {
      "cell_type": "code",
      "source": [
        "train_df.isna().sum()"
      ],
      "metadata": {
        "id": "tmmTKs5F3epJ"
      },
      "execution_count": null,
      "outputs": []
    },
    {
      "cell_type": "code",
      "source": [
        "test_df.isna().sum()"
      ],
      "metadata": {
        "id": "dJOC8IJS3kL1"
      },
      "execution_count": null,
      "outputs": []
    },
    {
      "cell_type": "code",
      "source": [
        "for idx,val in enumerate(train_df.isna().mean()*100):\n",
        "  print(f\"{idx}컬럼의 결측치 비율{val: .4f}%\")"
      ],
      "metadata": {
        "id": "y9Se7VB4y_QY"
      },
      "execution_count": null,
      "outputs": []
    },
    {
      "cell_type": "code",
      "source": [
        "for idx,val in enumerate(test_df.isna().mean()*100):\n",
        "  print(f\"{idx}컬럼의 결측치 비율{val: .4f}%\")"
      ],
      "metadata": {
        "id": "DDWz5-hDzrCT"
      },
      "execution_count": null,
      "outputs": []
    },
    {
      "cell_type": "code",
      "source": [
        "train_df = train_df.fillna(train_df['ship_fee'].mean())\n",
        "test_df = test_df.fillna(test_df['ship_fee'].mean())"
      ],
      "metadata": {
        "id": "SWQGwJSW8iCG"
      },
      "execution_count": null,
      "outputs": []
    },
    {
      "cell_type": "code",
      "source": [
        "train_df.isna().sum()"
      ],
      "metadata": {
        "id": "LYSy6HmP35u3"
      },
      "execution_count": null,
      "outputs": []
    },
    {
      "cell_type": "code",
      "source": [
        "test_df.isna().sum()"
      ],
      "metadata": {
        "id": "SZUMtP1o8kD7"
      },
      "execution_count": null,
      "outputs": []
    },
    {
      "cell_type": "markdown",
      "source": [
        "# **상관계수 확인 및 시각화**"
      ],
      "metadata": {
        "id": "5Lr_PlK29f7k"
      }
    },
    {
      "cell_type": "code",
      "source": [
        "train_df.corr()"
      ],
      "metadata": {
        "id": "0-W718Oa393l"
      },
      "execution_count": null,
      "outputs": []
    },
    {
      "cell_type": "code",
      "source": [
        "test_df.corr()"
      ],
      "metadata": {
        "id": "_3Texw0t9sxe"
      },
      "execution_count": null,
      "outputs": []
    },
    {
      "cell_type": "code",
      "source": [
        "train_df_corr = train_df.corr()"
      ],
      "metadata": {
        "id": "xJhCx61D30Vs"
      },
      "execution_count": null,
      "outputs": []
    },
    {
      "cell_type": "code",
      "source": [
        "train_df_corr_sort = train_df_corr.sort_values('inernational_oil_pr',ascending=False)"
      ],
      "metadata": {
        "id": "KBqJdJIa34qp"
      },
      "execution_count": null,
      "outputs": []
    },
    {
      "cell_type": "code",
      "source": [
        "train_df_corr_sort['inernational_oil_pr'].head(6)"
      ],
      "metadata": {
        "id": "SgFRpMwA4HUV"
      },
      "execution_count": null,
      "outputs": []
    },
    {
      "cell_type": "code",
      "source": [
        "plt.figure(figsize=(10,10))\n",
        "sns.heatmap(train_df.corr(),linewidth=0.5,cmap='summer',annot=True)"
      ],
      "metadata": {
        "id": "G-J99a-s4Nma"
      },
      "execution_count": null,
      "outputs": []
    },
    {
      "cell_type": "code",
      "source": [
        "plt.figure(figsize=(10,10))\n",
        "sns.heatmap(train_df.corr(),linewidth=0.5,cmap='summer',annot=True,fmt='.2%')"
      ],
      "metadata": {
        "id": "bASyE4So4tB4"
      },
      "execution_count": null,
      "outputs": []
    },
    {
      "cell_type": "code",
      "source": [
        "plt.figure(figsize=(10,10))\n",
        "sns.clustermap(train_df.corr(),linewidth=0.5,cmap='summer',annot=True,fmt='.2%')"
      ],
      "metadata": {
        "id": "vp5JHDhT449-"
      },
      "execution_count": null,
      "outputs": []
    },
    {
      "cell_type": "markdown",
      "source": [
        "# **원핫 인코딩 처리**"
      ],
      "metadata": {
        "id": "P37lgPb890ws"
      }
    },
    {
      "cell_type": "code",
      "source": [
        "from sklearn.preprocessing import OneHotEncoder\n",
        "from sklearn.compose import make_column_transformer\n",
        "from sklearn.preprocessing import LabelBinarizer"
      ],
      "metadata": {
        "id": "XrgFgwxu4uQF"
      },
      "execution_count": null,
      "outputs": []
    },
    {
      "cell_type": "code",
      "source": [
        "x_train = train_df.drop(['order_yn'],axis = 1)\n",
        "x_test = test_df.drop(['order_yn'],axis = 1)\n",
        "y_train = train_df[['order_yn']]\n",
        "y_test = test_df[['order_yn']]"
      ],
      "metadata": {
        "id": "9KIvooQz5ZTi"
      },
      "execution_count": null,
      "outputs": []
    },
    {
      "cell_type": "code",
      "source": [
        "transformer = make_column_transformer((OneHotEncoder(), ['order_experience','shipowner','ship_kinds','chinese_bid_yn','domestic_competitor_bidding_yn']),remainder='passthrough')\n",
        "transformer.fit(x_train)\n",
        "x_train = transformer.transform(x_train)\n",
        "x_test = transformer.transform(x_test)"
      ],
      "metadata": {
        "id": "rHSJPSiC59lC"
      },
      "execution_count": null,
      "outputs": []
    },
    {
      "cell_type": "code",
      "source": [
        "lb = LabelBinarizer()\n",
        "lb.fit(y_train)\n",
        "labels = lb.classes_\n",
        "y_train = lb.transform(y_train)\n",
        "y_test = lb.transform(y_test)"
      ],
      "metadata": {
        "id": "789zQke_6XP2"
      },
      "execution_count": null,
      "outputs": []
    },
    {
      "cell_type": "code",
      "source": [
        "x_train.shape"
      ],
      "metadata": {
        "id": "hBOndglh6gSZ"
      },
      "execution_count": null,
      "outputs": []
    },
    {
      "cell_type": "code",
      "source": [
        "y_train.shape"
      ],
      "metadata": {
        "id": "acnO1CBp6jmK"
      },
      "execution_count": null,
      "outputs": []
    },
    {
      "cell_type": "markdown",
      "source": [
        "# **Tensorflow & Keras 라이브러리 불오기 및 모델 설계**"
      ],
      "metadata": {
        "id": "10xYy2IP95Qn"
      }
    },
    {
      "cell_type": "code",
      "source": [
        "import tensorflow as tf\n",
        "from tensorflow.keras.layers import Input\n",
        "from tensorflow.keras.layers import Dense\n",
        "from tensorflow.keras.layers import Activation\n",
        "from tensorflow.keras.models import Model\n",
        "from tensorflow.keras.optimizers import Adam"
      ],
      "metadata": {
        "id": "b2AlNpxt6oTk"
      },
      "execution_count": null,
      "outputs": []
    },
    {
      "cell_type": "code",
      "source": [
        "input = Input(shape=(35,))"
      ],
      "metadata": {
        "id": "LalyC9J86w26"
      },
      "execution_count": null,
      "outputs": []
    },
    {
      "cell_type": "code",
      "source": [
        "net = Dense(units=512)(input)\n",
        "net = Activation('relu')(net)\n",
        "net = Dense(units=256)(net)\n",
        "net = Activation('relu')(net)\n",
        "net = Dense(units=1)(input)\n",
        "net = Activation('sigmoid')(net)\n",
        "model = Model(inputs=input, outputs=net)\n",
        "model.summary()"
      ],
      "metadata": {
        "id": "tPm6MGHN610w"
      },
      "execution_count": null,
      "outputs": []
    },
    {
      "cell_type": "code",
      "source": [
        "model.compile(loss='binary_crossentropy', optimizer=Adam(learning_rate=0.01), metrics=['accuracy'])"
      ],
      "metadata": {
        "id": "FGu8hbng64Ky"
      },
      "execution_count": null,
      "outputs": []
    },
    {
      "cell_type": "code",
      "source": [
        "model.fit(x_train, y_train, epochs=150, validation_data=(x_test, y_test)) "
      ],
      "metadata": {
        "id": "DrfmgnSY7CXO"
      },
      "execution_count": null,
      "outputs": []
    },
    {
      "cell_type": "code",
      "source": [
        "x_test = transformer.transform(pd.DataFrame([['no',86.3, 3413, 'M', 'G', 28789, 'yes', 34768, 'yes',224.3,25.7,'no']],columns=['order_experience','inernational_oil_pr','Exchange_rate','shipowner','ship_kinds','ship_fee','chinese_bid_yn','ship size','domestic_competitor_bidding_yn','order_backlog','bid_pr','order_yn']))\n",
        "print(x_test)"
      ],
      "metadata": {
        "id": "Nn8cRLOt8FzR"
      },
      "execution_count": null,
      "outputs": []
    },
    {
      "cell_type": "markdown",
      "source": [
        "# **설계된 모델 예측 확인**"
      ],
      "metadata": {
        "id": "hoF8NiyY-CWi"
      }
    },
    {
      "cell_type": "code",
      "source": [
        "y_predict = model.predict(x_test)\n",
        "print(y_predict) \n",
        "print(y_predict.flatten())\n",
        "print(y_predict.flatten()[0])\n",
        "print(1 if y_predict.flatten()[0] > 0.5 else 0)\n",
        "print(labels[1 if y_predict.flatten()[0] > 0.5 else 0])"
      ],
      "metadata": {
        "id": "QCD8g22F9lWs"
      },
      "execution_count": null,
      "outputs": []
    }
  ]
}